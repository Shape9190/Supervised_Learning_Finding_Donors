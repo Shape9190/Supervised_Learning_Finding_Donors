{
 "cells": [
  {
   "cell_type": "markdown",
   "metadata": {},
   "source": [
    "## Supervised Learning\n",
    "## Project: Finding Donors for *CharityML*"
   ]
  },
  {
   "cell_type": "markdown",
   "metadata": {},
   "source": [
   "For this Notebook Submission, Python version 3 was used."
   ]
  },
  {
   "cell_type": "markdown",
   "metadata": {},
   "source": [
    "## Getting Started\n",
    "\n",
    "In this project, I will employ several supervised algorithms to accurately model individuals' income using data collected from the 1994 U.S. Census. I will then choose the best candidate algorithm from preliminary results and further optimize this algorithm to best model the data. My goal with this implementation is to construct a model that accurately predicts whether an individual makes more than $50,000. This sort of task can arise in a non-profit setting, where organizations survive on donations.  Understanding an individual's income can help a non-profit better understand how large of a donation to request, or whether or not they should reach out to begin with.  While it can be difficult to determine an individual's general income bracket directly from public sources, we can (as we will see) infer this value from other publically available features. \n",
    "\n",
    "The dataset for this project originates from the UCI Machine Learning Repository(https://archive.ics.uci.edu/ml/datasets/Census+Income)."
   ]
  },
  {
   "cell_type": "markdown",
   "metadata": {},
   "source": [
    "----\n",
    "## Exploring the Data\n",
    ]
  },
  {
   "cell_type": "code",
   "execution_count": 1,
   "metadata": {},
   "outputs": [
    {
     "data": {
      "text/html": [
       "<div>\n",
       "<style scoped>\n",
       "    .dataframe tbody tr th:only-of-type {\n",
       "        vertical-align: middle;\n",
       "    }\n",
       "\n",
       "    .dataframe tbody tr th {\n",
       "        vertical-align: top;\n",
       "    }\n",
       "\n",
       "    .dataframe thead th {\n",
       "        text-align: right;\n",
       "    }\n",
       "</style>\n",
       "<table border=\"1\" class=\"dataframe\">\n",
       "  <thead>\n",
       "    <tr style=\"text-align: right;\">\n",
       "      <th></th>\n",
       "      <th>age</th>\n",
       "      <th>workclass</th>\n",
       "      <th>education_level</th>\n",
       "      <th>education-num</th>\n",
       "      <th>marital-status</th>\n",
       "      <th>occupation</th>\n",
       "      <th>relationship</th>\n",
       "      <th>race</th>\n",
       "      <th>sex</th>\n",
       "      <th>capital-gain</th>\n",
       "      <th>capital-loss</th>\n",
       "      <th>hours-per-week</th>\n",
       "      <th>native-country</th>\n",
       "      <th>income</th>\n",
       "    </tr>\n",
       "  </thead>\n",
       "  <tbody>\n",
       "    <tr>\n",
       "      <th>0</th>\n",
       "      <td>39</td>\n",
       "      <td>State-gov</td>\n",
       "      <td>Bachelors</td>\n",
       "      <td>13.0</td>\n",
       "      <td>Never-married</td>\n",
       "      <td>Adm-clerical</td>\n",
       "      <td>Not-in-family</td>\n",
       "      <td>White</td>\n",
       "      <td>Male</td>\n",
       "      <td>2174.0</td>\n",
       "      <td>0.0</td>\n",
       "      <td>40.0</td>\n",
       "      <td>United-States</td>\n",
       "      <td>&lt;=50K</td>\n",
       "    </tr>\n",
       "  </tbody>\n",
       "</table>\n",
       "</div>"
      ],
      "text/plain": [
       "   age   workclass education_level  education-num  marital-status  \\\n",
       "0   39   State-gov       Bachelors           13.0   Never-married   \n",
       "\n",
       "      occupation    relationship    race    sex  capital-gain  capital-loss  \\\n",
       "0   Adm-clerical   Not-in-family   White   Male        2174.0           0.0   \n",
       "\n",
       "   hours-per-week  native-country income  \n",
       "0            40.0   United-States  <=50K  "
      ]
     },
     "metadata": {},
     "output_type": "display_data"
    }
   ],
   "source": [
    "# Import libraries necessary for this project\n",
    "import numpy as np\n",
    "import pandas as pd\n",
    "from time import time\n",
    "from IPython.display import display # Allows the use of display() for DataFrames\n",
    "\n",
    "# Import supplementary visualization code visuals.py\n",
    "import visuals as vs\n",
    "\n",
    "# Pretty display for notebooks\n",
    "%matplotlib inline\n",
    "\n",
    "# Load the Census dataset\n",
    "data = pd.read_csv(\"census.csv\")\n",
    "\n",
    "# Success - Display the first record\n",
    "display(data.head(n=1))"
   ]
  },
  {
   "cell_type": "markdown",
   "metadata": {},
   "source": [
    "### Implementation: Data Exploration\n",
    "- The total number of records, `'n_records'`\n",
    "- The number of individuals making more than \\$50,000 annually, `'n_greater_50k'`.\n",
    "- The number of individuals making at most \\$50,000 annually, `'n_at_most_50k'`.\n",
    "- The percentage of individuals making more than \\$50,000 annually, `'greater_percent'`.\n",
    "\n",
   ]
  },
  {
   "cell_type": "code",
   "execution_count": 2,
   "metadata": {},
   "outputs": [
    {
     "name": "stdout",
     "output_type": "stream",
     "text": [
      "Total number of records: 45222\n",
      "Individuals making more than $50,000: 11208\n",
      "Individuals making at most $50,000: 34014\n",
      "Percentage of individuals making more than $50,000: 24.78439697492371%\n"
     ]
    }
   ],
   "source": [
    "# Total number of records\n",
    "n_records = data['income'].count()\n",
    "\n",
    "# Number of records where individual's income is more than $50,000\n",
    "n_greater_50k = sum(data['income']=='>50K')\n",
    "\n",
    "# Number of records where individual's income is at most $50,000\n",
    "n_at_most_50k = sum(data['income']=='<=50K')\n",
    "\n",
    "# Percentage of individuals whose income is more than $50,000\n",
    "greater_percent = (n_greater_50k / n_records) * 100\n",
    "\n",
    "# Print the results\n",
    "print(\"Total number of records: {}\".format(n_records))\n",
    "print(\"Individuals making more than $50,000: {}\".format(n_greater_50k))\n",
    "print(\"Individuals making at most $50,000: {}\".format(n_at_most_50k))\n",
    "print(\"Percentage of individuals making more than $50,000: {}%\".format(greater_percent))"
   ]
  },
  {
   "cell_type": "markdown",
   "metadata": {},
   "source": [
    "** Featureset Exploration **\n",
    "\n",
    "* **age**: continuous. \n",
    "* **workclass**: Private, Self-emp-not-inc, Self-emp-inc, Federal-gov, Local-gov, State-gov, Without-pay, Never-worked. \n",
    "* **education**: Bachelors, Some-college, 11th, HS-grad, Prof-school, Assoc-acdm, Assoc-voc, 9th, 7th-8th, 12th, Masters, 1st-4th, 10th, Doctorate, 5th-6th, Preschool. \n",
    "* **education-num**: continuous. \n",
    "* **marital-status**: Married-civ-spouse, Divorced, Never-married, Separated, Widowed, Married-spouse-absent, Married-AF-spouse. \n",
    "* **occupation**: Tech-support, Craft-repair, Other-service, Sales, Exec-managerial, Prof-specialty, Handlers-cleaners, Machine-op-inspct, Adm-clerical, Farming-fishing, Transport-moving, Priv-house-serv, Protective-serv, Armed-Forces. \n",
    "* **relationship**: Wife, Own-child, Husband, Not-in-family, Other-relative, Unmarried. \n",
    "* **race**: Black, White, Asian-Pac-Islander, Amer-Indian-Eskimo, Other. \n",
    "* **sex**: Female, Male. \n",
    "* **capital-gain**: continuous. \n",
    "* **capital-loss**: continuous. \n",
    "* **hours-per-week**: continuous. \n",
    "* **native-country**: United-States, Cambodia, England, Puerto-Rico, Canada, Germany, Outlying-US(Guam-USVI-etc), India, Japan, Greece, South, China, Cuba, Iran, Honduras, Philippines, Italy, Poland, Jamaica, Vietnam, Mexico, Portugal, Ireland, France, Dominican-Republic, Laos, Ecuador, Taiwan, Haiti, Columbia, Hungary, Guatemala, Nicaragua, Scotland, Thailand, Yugoslavia, El-Salvador, Trinadad&Tobago, Peru, Hong, Holand-Netherlands."
   ]
  },
  {
   "cell_type": "markdown",
   "metadata": {},
   "source": [
    "----\n",
    "## Preparing the Data\n",
    "There are no invalid or missing entries we must deal with, however, there are some qualities about certain features that must be adjusted."
   ]
  },
  {
   "cell_type": "markdown",
   "metadata": {},
   "source": [
    "### Transforming Skewed Continuous Features\n",
    "Algorithms can be sensitive to such distributions of values and can underperform if the range is not properly normalized. With the census dataset two features fit this description: '`capital-gain'` and `'capital-loss'`. \n",
    "\n",
   ]
  },
  {
   "cell_type": "code",
   "execution_count": 3,
   "metadata": {},
   "outputs": [
    {
     "data": {
      "image/png": "iVBORw0KGgoAAAANSUhEUgAAAxAAAAF2CAYAAAD+y36TAAAABHNCSVQICAgIfAhkiAAAAAlwSFlzAAALEgAACxIB0t1+/AAAADl0RVh0U29mdHdhcmUAbWF0cGxvdGxpYiB2ZXJzaW9uIDIuMS4wLCBodHRwOi8vbWF0cGxvdGxpYi5vcmcvpW3flQAAIABJREFUeJzs3XmYLFV9//H3h1VERVRABBQlxiXGBRAxGgQXRFyIW4IRubgbNdGoP8UVxF0jCjFuUQSXuKEiIoqIgiuyiYALiwJ6ZRUUWQQEzu+Pc5rbt+mZqbl3eqZn+v16nn6m69TpqlNVPXX6W+fUqZRSkCRJkqQu1ljoAkiSJElaPAwgJEmSJHVmACFJkiSpMwMISZIkSZ0ZQEiSJEnqzABCkiRJUmcGEFpQSf4pyfeSXJLkL0nOT3JYkl368uyVpCT5m4Us66rqK/+WM+Q7uOUrSW5KckWSXyT5eJKHrupyh3zmObMs/8FJzuub3rKt93mzWc6qlGtVtnGcJFkjyfuTXNiO6WEz5F8/yWuTnJLkyiTXJjkzyQdG+f1Psm+SRw5JX+nYL3VJ7tr29dlt31+V5MQkr0+ywUKXb1T6zjslyV+TXJrk+0nemGTj1Vju0O/VapZ134Hy9r9G8j+yKudNaalba6ELoMmV5D+AA4CDgPcAVwNbAY8HHgl8c+FKt2AuBZ7U3q8P3AvYA/hRkneWUl7bl/frwEOBC2ex/L2o//cHzeIzb6Eep1Hai+HlWpVtHCdPA14GvBL4MXDZVBmTbAp8G7gL8AHgB8D1wH2B5wAPAx40onLuA7wN+M5A+nwc+7GQZAfgcOAS4EDgDGBtYHvgJcCdgP9csAKO3sHAR6gXFu9I3e5/B/4jyW6llB+twjKn+l7NhYcDNw6k/W4E64FVO29KS5oBhBbSq4DDSinP7Uv7DvC/SSa1dez6UsrxfdPHJPkQ8D5g7yQnlVK+BFBKuZQacIxEknVLKdeVUn49qnXMZNTbOA/u0/6+v5Ry0wx5PwVsCmxXSjm7L/27ST4I7DaKAk5nIY/9fEqyIXAo8Evg0aWUq/tmfyvJe4F/WJDCzZ/fD5x7vpbkQOD7wJeTbDWwXxbaT0opNyx0IVZVkrWBG4pP89UiNak/0jQe7gBcNGzGTD+2kmyT5OIkX05yq5a2Vuv+8ask1yW5IMl7e/NbnjOSfKxveoMkNyZZPrD8Hyb5Qt/0jMtu+e6R5OtJrmndAA4A1p3NThmyLwrwauBi4OV967pF954k/5rkp63rxRVJTk/ywjbvWOARwMP6mvyPHVjWDkm+mORPwE/avKm6sayTZP/U7mfXJDlisKtRW+a+A2m9LlB7zaJc/du4dpK3JjkvyfXt71tbhTy4jhcm2S+1C9GfknwtyeYD5Zlyn00nyS5Jfpza9e6K1K539+qbfx7Q2/Yb+7d5yLK2Ax4FvH0geADqd6CUclhf/jnbB0l6P2Be37f/923zpuq+1mW/znjs+9L3SPKz1G5Df0jyqdQWmVkvL8mDkxyd5LL2vfxNagA2necDGwH/PuxHcinl6lLK0X3ruHWSdyU5t+3/c1O7Oa3Rl2fHVrYnpXaL+kPqOeHTSW4/sB0vS/LL9l36Y5KTkjy5b/55SQ4eLNfgPknyt0m+0v4nr03y29T/51W6WFhKuRj4f8AmwO5969k5yZHt+F+Tel59ZZI1+8vW3g77Xj04yaFJlrdtPjPJ25OstyrlHCbJ3ZN8pu3z65Kc2r9PW56/ad+1c1s5fpPkQ6kBZS/PsUx9ftq3bzv7lzvV/82Lk7w7yQXAdcDtZ1HWOT220uryi6eFdAKwLMlvgK+WUs7q8qEkOwNfAj4DvKSU0mvG/jTwROBdwI+oV3/fAmwJPLXl+Q7whL7F7Ug9kW+W5G9LKWclWR94cFtez4zLTrIOcDSwHrXLwyXAC4GndNmu6ZRSrk9yDPC0JGsNu/KW5OGtnAdSK/01gHvTKingxW3+mq1cAH8eWMxngM9Su97MdH54LXAq8GxgY+Dt1Ku1f1dK+essNq9LufodAvxzW98PqF2c3gDcA/jXIWX8EbUL0MbAe6nb+AjotM+GSr1H5+vU79O/ALcB9gN+kOSBpZTfA08G/oPa/aF3D8tUV/Qf3f4ePt16+8zZPmif/TErurAALGd6My2zsyQvaOv9fFvuXdp2PSTJ1qWUq2axrNsAR1HPLXsBV1L/R2dqPXg0cFEp5aQO61irreO+1HPA6dTuPm+kXhR55cBHDgCOoB6XewHvpna9WdaW90zq/tuPerV/PeD+bVmzdQTwJ+DfgD8AmwG7snoXC78F3EDtQvfxlnYP4Bjgv4FrgW2pwfJGwN4tz3Tfq7tSzx0HU4/R3wFvasu9OVCZwZpJ+qdv6l14SrIF9QLIJdRuZ5dS/0+/lOSfSim9/7O7tDK9HPhjW//rgCNZ8T872/PTdF4PnAi8oC3v2lmUdRTHVlp1pRRfvhbkBfwtcBpQ2usP1B+vOw/k26vN/xvgmdR+4fsN5PnHlmfPgfRntvQHtuknt+m7ten3U3+0nQ28sKXt0vLce5bLfn6b3r4vzxrAz1v6ljPsj4OB5dPMf0dbziYD+2XLNv0q4PIZ1nEs8IMh6b1lvW+Kcp3XN71ly/sLYI2+9Ie19Of2pRVg34Hl9T6/1yzK1dvG+02xzDe09PsPrOO4gXyvaul36brPptiPJ7XvzFp9aXcH/grs35f2Vloj0gzL+1Ar17od8s7pPug7Tm+dxbHvusxpjz31R9TFwHcH8j285fuPWS5v2/59MIvj+Uvgxx3zPqutY4eB9NdTz00bt+kdW75DBvJ9gPqjO33Tp8ywzvOAg4ek37xPqPdoFOBJq/B9Hnr8++ZfCHxjinmhXmx4PfVH+Bpdlzvw+T2Am4A7zpB/X1bUGf2vT/fl+Tj1h/gdBz57NHDqNMteq++796C+9GMZfn7alyH/39P835zSO+6zKevqHFtfvkb1MnLVgim1xeFB1KuWb6NekXoycFSSNwz5yMupJ+aXlVLeNDBvF2rl/aXU7kZrtSuF32rzd2h/j6NWUr2RQR5JvYr8nYG0C0spv5rlsh8K/K709SMu9YrYzV2hVlPvcluZYv6JwIati8QTBrtJdPSVWeQ9tPR1NSul/JB6Ne8WI0bNod6+/vRAem968Ar41wemT29/79r+znqftRaqrYHPl76WoFLKucAPh5Rhrs31PlgVc7XMe1FbMD7Tn1hK+QFwPrPfl2dTr9J+JLVb1Baz/HwXu1DL9qMh54PeTdf9hu2rdandgqB+Bx+Y5L+TPDrJrVexXJcBvwHemeT5Se65issZJvSdd5JsmuQjSc6nnhv/Sg2Wb089ntMvLLldahewX1NbgP9KvQcoQNdyb09tKe693tg3bxdqK8IVA8foKOABSW7XyrFOkteldk39SyvH99sy7sXcO6yUMnj+7lLWUR5baZUYQGhBlVJuLKV8r5TyhlLKo6lNyKcD+/T3Q212B35P7b40aGNgHeAqaiXQe13S5t+xre9y4GfATknuRL2a+9322rHl3alNz2rZ1BtgLx5StmFpq2ILamV9+bCZpZTjgKe3fF8BLk3y7ST3n8U6ZjPa0VTbutksljFbvW4dg+W8aGB+z+C+uq79vRWs8j7bkPpDZ9i+umhIGbrojR5ztw5553QfrKK5WuZU2wKrsC9LKVdQ/38vAD4I/Lb1z3/q9J/kd9SrxF1sTD1Ofx14ndDm33Eg/0z76pPUbikPof5ovDz13q6u5QFuvlfqMdTWsXcAZ7U+/f82m+UMavcl3Il2jFLv8zic2hX0rdQLLg+mXgSCbt+BTwAvonYdfEz7/Etm8XmAk0spJ/W9zu2btzGwJ7c8Ru9p83vH6B3UVoRPU0f/244VXU5X5/9jKsO+5zOWdVTHVlod3gOhsVJKuSD1JucDqFeiTuib/VTgo8CxSR5ZSum/AfsyareAf5xi0Rf0vf8utY/pTu1zp1FP7Bsn6Q2V+ZG+/F2XfSG1L++gTYakzUq7v+LRwPFlmpFHSimHAoe2vuA7Uu/Z+GaSzcvMowDB1K0bwwzbrk2oLUk911GDr36DP7Bmo/dj7M6sfD/BndvfKYdJncoq7LM/UvfTnYfMu/OqlIE6fOvbqPfZvHeGvHO+D0aky7Hv35ZBd6b+YJrN8iilnAo8tV3F3ZZ6X8UXkjyglHLGFGX9NvCYJNuUUk6eIk/PZcC51HtQhjlvhs8PlrdQzzcfaRdNdqZ+Bz5PDSqgnn9W2vYktwiuSim/AfZMvTngAcBLgQ8mOa+U8o3ZlKvPY6ldzX7Qprei7tdnlVJubgVL8sQuC0sdeGI3aterA/rS/34VyzfMZdSWhHdNMb93zt4d+GQp5a195bjNLNZzbfvMOqWU6/vSpzrHDTu/dirriI6ttMpsgdCCmaZ7wb3b38ERmn5P/YG3BnVoy/5RWr5JvWK0wcBVqd5rMIDYjHpD3LGluoR6r8KbqZXld1Zh2T8GtkhycxeGdrVuqh8anbQK493UK1Xv6/KZUspVpZQjqD9MNmVFhXYd9SbNufC0rDzqzMOAzan7oed8aitPv8cPWVbXch3X/g7eaPnM9vd7HZYx1DT7bDDf1cDJwNOz8qgzd6PerHvcsM/NsO4TqDelvi5TPAwrSW8Y11Hsg+uZu+9FT5djfya11WqlbUnyD9Sr/P37sut3CYBSyg2tO+EbqeeM+0yVF/gY9R6sD7QuaitJHXWpd6P7N6ktVldNcT74wzTrmVYp5Y+llM9Tuz32b+uwbX8CU2jntFOBV7Skwc92kvoQuXdTL458riX3ulj9tS/f2qz4/vUb9r1al3qOHRxoYa9VKeMUvkm9Ef3nUxyjXivQrYeU49lDljfV+en89vfm/du6Qc5myN+uZQXm7thKq8sWCC2kM5J8l9p15FzgdtRRJV4EfKGU8tvBD5RSLkyyI/XH1rFJdiqlXFBKOTbJZ6lXkventlzcRO2WsCvwmrJilKfvUUdBeRQrms2hBhYvBX7brvb01tl12YdQRyD5cpLXUbs4vahtV1fr9AUgt2bFg+QeSr0ZcconGSfZj9oC8F3qVavNqaMAnVrq8xSg3vj84iT/Qr16fWUp5cxZlK/fbYHDknyEOvrKO6h90D/Zl+dzwBuSvB44ntqK84why+pUrlLKz9ux2LddYf4Rdd+8EfhsKeW02WxAx302zBupfduPSB0i9DbU4PMKZm5BmMqzqFfCT0zy36x4kNy9qaMdrU0drWxO90HzC+DxSb5JbWG5YCDoXhUzHvtSyo1J3kS9+v5paleSzaitMWdTu7p0Xl6SJ1BHuDmMek5Zn3o8r2TlwHYlpZTLWzenw4FT2v7vPUhuO+r/8aHU4/MZ6o/MY1KfD/EzauvAVtSHQP5TKeWarjspyUf7yncJdXCJZ7HiHqveth+U5H3U0XgewMAP7tbt7gBqy8U51B/pe1FHUOryILfN2rlnDWrXse2pA0MEeGIp5S8t3y+pP5zfluRG6g/wqR6wN/R7leR44JVJLqQGbs9hbrs+vol6nv5ekg9QW4U2pP7YvkcppfdU6W9SRwI8nbrPnsLwH/9TnZ++Qf2f/98k+1CDo1dTu7vOWVnn4NhKc6+MwZ3cvibzRa2UD6dWRtdSn0T9U+oJeJ2+fHvRRmHqS9uYeq/EWcBmLW0N6lN/f9aWd0V7/25q60H/un9C30hLLa03QtPBQ8raadnUeziOBK6hjqxxALWl4+aRhKbZHwezYkSRm6g/Kn5JHaVj+yH59+pfLvVq7FHUq4XXUft1f5yVR8a5cyvfle2zx061jwfKdV7f9JYt74uB/dt2XkP9QX33gc/equ2DC9s6P0/9QXbzyDkdy7VlX961qX2vz6f+eDm/Ta89pIzPGyjPji19x677bJrjtQv1R99f2vfhq8C9BvJ0GoWpL/9tqMNI/pT6/3Ad9Sr9AdQfE3O+D1raw6itKtey8sg+Ux37LsvsdOxb3j2o/0/XUbt0fArYdLbfJWrA/Xlq8HAt9bt5JPCQjvv/btRRkXo3915Fvcl5b+B2A2XZF/hVy3d5y7cvbWSuvn3y6Bn+b5dRR/m5pC3rXGpLY//61qD+0Dyf+r92FDVg6T9WG1MvYpzV8lxObcF5bIft7h/N6K/UH/U/oI7stdGQ/A9s86+hDpywH/A8bvm/OtX3akvqj+8r23Z/gPq/uNJ3aIqy7tvyrTVDvs2pLUu/pwbiF1JHNtqjL8+dqMHZH9vrM9T7MTqdn9q8h7djf03b93vQ8f+ma1lX59j68jWqV28YOUmSJEmakfdASJIkSerMAEKSJElSZwYQkiRJkjozgJAkSZLUmQGEJEmSpM4MICRJkiR1ZgAhSZIkqTMDCEmSJEmdGUBIkiRJ6swAQkMlOTjJEXOwnH2TnDEXZZphPVsmKUm2HfW6Jl2SvZJcNaJlH5vkA33T5yV51YjWNbLtkCbBfNYTc7Uujc4o6/vBuqDV908b0brm5XfLYmcAsQi0E+e+87zalwF79JVhpR92Y+h3wKbAqV0/kGTHJOfNkOe8dqLqf/1pNcs6uI4F37dtX/S276Ykf05yWpIDktx9IPvngXt0XO5sA7unAK+dTdk7lmNYZdN5O6RxZz0xd9rFhWNnyDNYL5QkneufjuUY2QWUWZRhr77tuzHJn5KclORtSTYeyP5fwCM6LrdX59ypY1EeDHxwNmXvUIap6qfO2zHJ1lroAmg8lVKuWOgyzEYp5UbgohEtfj/gQ33TN41oPastydqllL+uxiL+DrgcuA3wAODlwOlJHl9KOQ6glPIX4C+rXdg+SdYppVxfSrl8Lpc7nVFshzRJFls9MQLPB/pbRVbn3DsySdYA0urJVXENsBUQ4HbUH/OvAZ6f5BGllF8ClFKuAua0Vbevbrh0Lpc7nVFsx1JkC8QilGSdJG9Pcn6S65L8Jsl/tHlrJvl4knOT/CXJ2Ule3U4gvc8fnOSIJG9IcnGSq5J8Isl6g3l676nR+Ev6rkRs2WVdHbdn/SSfbOW4OMlrW/kO7suzR5ITk1yZ5JIkX0yyWd/8la4k9F3deFSSnyS5pl012XoVdvmVpZSL+l6X9K13gyQfbWW6Mslx/VczktwxyWeTLG/76OdJnt03f6p9e4urM9Ns465JTkhyPfDYNu+JSU5Ocm07Pm9Lsk6Hbb2kbeM5pZQvATsCPwUOSrJmW/ZKXX+SbJHkq0kub/v5V0l2b7PPbX9PbGU9trfd7Ri/JslyYHlLH3YF8zZJPt2+Hxdl4IpchrQupO/KXVa0Mn2x5T1v2Ha0tBcmOSfJ9e3v84es6wXt+3d1+9/bA2nMZInVE0O2b90k729luzbJ8Uke3jd/7SQHJrmgbf/vkryzb/5TUltZ/9LOXccl2WSWxfjTQN1wWd/yN0vyuSR/bK+vJ7ln3/yt2nnzonYuOSXJE/rmHwvcDXhPb3+29GHnrZXqi16eVjecAVwP3KfNe3aSX7R9dlaS/+xwLErbvgtLKWeWUj4NPBT4E/DhvnKs1PUnyd8nOSa1RfvKJD9LslOSLYHvtmyXtrIf3NvuJB9K8l9JLgV+2NKHtcbcue3Xa9r3vL81bGjrQlauL6aqnwa3Y40kb2zfoeuSnJ5ktyHremqSo1t5fpHkMTPs10XNAGJxOgTYE3gF9aTwXOo/MtRj+nvgn9u81wOvA549sIxHUK8wPwp4KrAz8K4p1vcy4MfAJ6jdhDaldhnquq6ZvLeV58nAI1u5/nEgzzrAPm3eE4A7AZ/tsOx3AHsDWwOXAZ9JklmWb6i2nK8Dm7UyPQj4HvCdJJu2bLcCTmnz/w44APhIkke1+VPt29l4F/AG4N7AT5I8FvgM8IG2zucATwPePtttbFes3kft6vOgKbJ9ELg1sFNb38tZ8X3crv3dhbptT+n73COA+7d5j2JqrwB+ST2G+wBvT/KUafIPenD7+/xWhgcPy5TkydR99n7gftRj9cEkTxzI+ibgq9Tv4uepwdXdZlEeaT4stXpi0LuBf6Ge3x4EnA58s+/c+x/UOmV34J4t75kASe4MfI66j+4D7AB8ajXLc7Mkt6b+QL6Wug8fClwIfLvNg9rK+w3gMdR9/CXgy0nu3eY/hXphZT9W7M/ZuBW1XnghcF/g/NQLIm+nnsPuA7yS2pLw4tluY7tK/2FghyQbTZHt/6jbvR31GO1L3Se/o36foNYZm1K/Pz17UFs7/pH6HZ7Km4HDgQcCHwU+ORgwzGC6+qnfy4D/R91Xfw98hXqsHjiQ723AgdTjeSLwuSS3mUV5FpdSiq9F9KKeCAuwyyw+807g233TB1Mrktv0pe0BXAes35fniL75xwIfWIV17QucMU3+21Cvjuzel7Y+8Efg4Gk+d++2HzZv01u26W3b9I5t+rF9n3lY/2c67rvz2n65qu/1ujbvkW16vYHPnAq8epplfg742HT7tq/8d+pLm2obnzrw2e8BbxxI+6dW1kxRplusb8i+/uc2vRdwVd/804B9pljuSmUe+A5eCqw7kL7Svmj7/+iBPB8DftA3XYCnDTlur5ohz+B2/BA4aEg5B9f1jr7ptajN+3t0/U758jXqF0usnhhcF7WOuB7Ys2/+msCvgbe26QOBY4ad86gXIwpwt9XYx4XaBbK/bnhmm/cc4Oz+dbfyXdY7j06xzOOBN/RNr3Qea2krnbda2o70nb9bngJsM5Dvt8CzBtJeDvximjLdYn1983Zp69lu2HEE/gwsm+KzK5V54Dt02pD8K+2L9tn/HcjzbeDT7f2WDK97bq4LpskzuB2/B940pJyD63ph3/zNWtrDV/U7Nu4v74FYfB5E7YP/3akyJHkR8Dxq8+d6wNrA+QPZTiv1CkLPj6lX+bei/iDspOO6enn/kXrFpeeFwBntMyf0EkspV2dgBITUrkf7UK803IF6dQLgrrTuL1Po35YL2t+NZ/jMoP2Bj/dN9/rpb0O98n7pQKPGraj7kdRuP3tTr35tBqxL3c/HzmL9MzlpYHobYLskr+lLW4N6fO5MvSI0G72NK1PMPwD4cJJdqBX2V0opJ3dY7hmllOs65PvxkOnZtEB0dR/goIG0HwBPGki7+TtVSrmhNbMP3kwoLaQlVU+UUj4zkG2rtowf9hJKKTcm+TH1ajvUgONo4Kwk3wKOBL5RSrkJ+Bn1x+YZbd63gUPL7PvZ/z/gm33TF7e/2wB3B64cqBtuzYq6YX1qnfYE6tXvtal1R+f9OoMb6BtUpLUSbEFtAe+/p28tVpzjZ2umumF/4GNJllHrhi+VUn7VYbld6g8YXjc8vuNnO0lyO+Au9H3Xmh8Auw6kTfV7Y0kygFh8pv1HT/Iv1C4YrwJ+RL0C8BJqU+7cFmT26zqJGgD0XEw7mTL1Cah3oj2KepJ/FnAJtQvT96mV2XT6b2rrrWO2XfcuK6WcMyR9Deo2DHa3grovoO6bV1KbQE+nXqV6OzOfVHo3avcf77WnyHv1kHK9GfjikLyrciNar0L+zbCZpZSPJzmKejJ9NPCjJO8opew7w3IHy72qCrf8v5hqX3VZ1kxpgzdKFuwOqvGy1OqJWyy2/Z3y/7WUckrra78LtbX4EOBnSR7Tgo2dge2p3bKeC7wj9Ybgn3XfOi6apm44ldp9alDvAtR/tbK9itpacQ3wSWau026i2/nuurLyTdO9c9SLqMdhLtyXur/PGzazlLJvks8Aj6Pen7dPkheVUgYv1Ayai7rhFnVoklWtF2CWdUMppbTgccnWDQYQi88p1C/kTqx85aPn4cBPSin9Y+lvNSTf3ydZv5TS+0fdntok/Osp1ns9tQl2VdYF3DzqzUon2yTnUP/ptqPd0NT6iN6vryz3pgYMryul9PKM4gr0bJ0CbALcVEoZ+uOauo++Vkr5FNx838TfsqIvMgzft70f+pv2vR/sbzldue49RcU2K60F5eXUYzHlEIWllOXUPqgfbS0fL6M2A1/fsgxu32xsP2T6l33Tl9LXPzj1RsjB/sJ/7VCGX1KPV3/l9nDgF7MprDQGllQ9McQ5bV0Pp13YaOeqh1L73feWdSX1QsoX2026xwN/A5xVaj+THwM/TrIf8HNqS/FsAoipnAI8A/hDKWWqYb8fDnyy1MEqSNJruT6rL89UdcOtk9yulNK7UDVj3VBKuTjJ74GtSimf7L4pw7W+/S8Cjpuu5aaUcjY1QDqwtXw8j3qOnau64aCB6V7d0F+H9gzupxnLUEr5c5ILqMfrO32zJr5uMIBYZEopZyf5ArVZ8GXUE9XmwJbtR+pZwF5JHkc9ye5OvYnrjwOLWot68+d+1Oa5d1L7E04V+Z9H7RazJfUq+uWzWNd023NVkoOAdyX5A7V7zRuolV8vuv8ttd/tS5P8D7WryVu6rmOEvk1t1vxqklcDv6J2EdqF2r/3+9R99C+po4P8Afh3atP2T/uWcx633LfnUG802zfJ3tQ+lm/oWK79gCOSnA98gdqUfT9qP9VXz/DZjZOsRb035f7Af1K7Q+xaphgCMMkB1C4HZ1GH+NuFFSfWS6j9hB+bOvrRtWX2Qz9un+S1wKHUfrN7As/sm/8d6sgvPwJupLbwXDuwjPOARyU5jnplbth39D3UHxonA99q2/FMRtNdShqZpVZPDNm+q9uP0Xe2euNc6rlqE9qzApK8glqfnEq9gPCv1NaP5Um2p7aWHkVt4XgQtXvPXP0g/Ay1ZeGrSd5ErcO2AHYDPtx+VJ8FPDnJV1v59qF2Yep3HvCPST5NPW/9AfgJ9Qr9O5K8j3rDbteboPcF/jv1WUZHUlsutgY2K6W8Y5rPpd14DrABK4Zx3YBbdvHsfWA9aivLF9t2bEILJluW86l1/OOTfA34y0B3uS6ekuREapfgp1Fv9n8I1EA0yfHAa5L8upV1cBu71k/vAfZLcja1e9Ue1J4H28yyvEvKkm1aWeL2pF5lOZD6o/Vg6j8HwEeoPxr/jzoKwJbUUY4GHUe94vJd6ogC3wGm+3H5X9Ro/RfUyP6us1jXTF5F7Y50eCvPadRm7GsB2tWNZdQbgX9BPdG+YhXWM6faFaxdqfvuf6kjfHwBuBcr+j++lXp/xzeoNzdfTa1c+t1i35b6LIfdqaMf/YzaJel1Hct1FLVRkIAnAAAgAElEQVQf6E5t3SdQ78P4bYeP/5xa6f6UGoj8FLh/KeV703xmDeC/W/mPplbIy1pZbqCOhvI86j75apdtGLA/NZj5KXV/vqmUcmjf/FdSr0IeSw0yPkatGBjIsxM1KPspQ5RSDqMGeP/ZtuVlwItLKV9bhTJLC22p1RODXtOW+wlqkHB/6k3jvXu8rqTeo3ACNYB6IPC4Uso1wBXUQTWOoF4dfy/wllKHJ11tbR07UM9LX6Tu/0OADVkROL2Cep76PrV+OL697/cmauDxa9oV9VKflfNM6uhNpwMvAN7YsVwfo97g/SxqvfL99vlzZ/joran1wgXU/fkK4GvA/Up7BsQQN1K39xBq3fgVaovPK1pZfk+ty99GrTNW5QGE+1JHczoN+Dfg2aWUE/vmP6f9PZH6PVzpItws6qcDqUHEu6n3bT6ZOnjJnD44cLFJ/Q2kSdKacu9USnnCTHkXQpJ1qVcn3lNKmYuKRpI0C+NeT0haWHZh0oJL8iBqt6QTgNtSryzdljrGviRJksbIgnVhSvKZJGcmOSPJQb2741MdmPoU2NPS9+TgJMtSn2J5dhsWrJe+TeqTAc9pn52TB4VpXr2C2rXkO9S+kju0G3MlTRjrB0kabyPrwpRkwyluVOzN35UVYz3/H/C9UsqHWvq/U/uWPwQ4oJTykCR3oPaL35Z6483J1Iek/DHJCdT+ysdTbww6sJTyDSRJY8f6QZIWt1G2QJyU5P+SPHLYFZ9SypGloXZd2bzN2o06tFkppRwP3D710fSPpT6R9vJW8RwN7NLm3a6U8uO2rE9Sb7aVJI0n6wdJWsRGeQ/E31IfHvJS4H+SfAo4uJRyQX+m1jT9LOoVIqhP6/1dX5blLW269OVD0m8hyQuoIw6w/vrrb3Pve9971ht18mWXzSr/Nne846zXIUmjdPLJJ/+hlLLRAhZhrOqHuagbwPpB0uLXtX4YWQDRxow/gjoe/UbU8Xd/m+QfSikn9GX9ILV5ujd82bD+qcOeNDtT+rAyfZT6sCu23XbbctJJJ3Xaln455JBZ5T9p2bKZM0nSPGrPCFkw41Y/zEXdANYPkha/rvXDSG+iTrJBu7JzOPWK03Op4/X25u8DbMTKY/ovp4573LM5dXze6dI3H5IuSRpT1g+StHiNLIBoT048hfogrD1LKTuUUg4ppVzb5j+P2m/1GaWUm/o+ejiwZxttY3vgivZgmKOAnZNsmGRDYGfgqDbvyiTbt760e7JqD6uSJM0D6wdJWtxGeQ/EF4C92pP+hvkw9WFhP2730H25lLIfdZSMXamPvL8GeDbUpy8meQv1iYIA+7UnMkJ9AuHBwHrUkTscYUOSxpf1gyQtYqO8B+LwGeYPXXcbKeMlU8w7CDhoSPpJwP1WoZiSpHlm/SBJi9uCPUhOkiRJ0uJjACFJkiSpMwMISZIkSZ0ZQEiSJEnqzABCkiRJUmcGEJIkSZI6M4CQJEmS1JkBhCRJkqTODCAkSZIkdWYAIUmSJKkzAwhJkiRJnRlASJIkSerMAEKSJElSZwYQkiRJkjozgJAkSZLUmQGEJEmSpM4MICRJkiR1ZgAhSZIkqTMDCEmSJEmdGUBIkiRJ6swAQpIkSVJnBhCSJEmSOjOAkCRJktSZAYQkSZKkzgwgJEmSJHVmACFJkiSpMwMISZIkSZ0ZQEiSJEnqzABCkiRJUmcGEJIkSZI6M4CQJEmS1JkBhCRJkqTODCAkSZIkdWYAIUmSJKkzAwhJkiRJnRlASJIkSerMAEKSJElSZwYQkiRJkjozgJAkSZLUmQGEJEmSpM4MICRJkiR1ZgAhSZIkqTMDCEmSJEmdGUBIkiRJ6swAQpIkSVJnBhCSJEmSOjOAkCRJktSZAYQkSZKkzgwgJEmSJHVmACFJkiSpMwMISZIkSZ0ZQEiSJEnqzABCkiRJUmcGEJIkSZI6M4CQJEmS1JkBhCRJkqTODCAkSZIkdWYAIUmSJKkzAwhJkiRJnRlASJIkSerMAEKSJElSZwYQkiRJkjozgJAkSZLU2YIFEEkOSnJJkjP60vZN8vskp7bXrn3zXpvknCRnJnlsX/ouLe2cJHvP93ZIkuaW9YMkjbeFbIE4GNhlSPr7SikPbK8jAZLcF9gd+Lv2mQ8mWTPJmsD/AI8D7gs8o+WVJC1eB2P9IElja62FWnEp5XtJtuyYfTfgc6WU64Bzk5wDbNfmnVNK+Q1Aks+1vL+Y4+JKkuaJ9YMkjbcFCyCm8dIkewInAa8spfwR2Aw4vi/P8pYG8LuB9IfMSyk7yiGHdM5bli0bYUkkadFbUvWDJC1W43YT9YeArYAHAhcC723pGZK3TJM+VJIXJDkpyUmXXnrp6pZVkjR/RlY/WDdI0uyMVQBRSrm4lHJjKeUm4H9Z0Qy9HNiiL+vmwAXTpE+1/I+WUrYtpWy70UYbzW3hJUkjM8r6wbpBkmZnrAKIJJv2TT4Z6I3AcTiwe5J1k9wduCdwAnAicM8kd0+yDvVGusPns8ySpNGzfpCk8bFg90Ak+SywI3CnJMuBfYAdkzyQ2sx8HvBCgFLKz5N8gXrz2w3AS0opN7blvBQ4ClgTOKiU8vN53hRJ0hyyfpCk8baQozA9Y0jyx6fJ/zbgbUPSjwSOnMOiSZIWkPWDJI23serCJEmSJGm8GUBIkiRJ6swAQpIkSVJnBhCSJEmSOjOAkCRJktSZAYQkSZKkzgwgJEmSJHVmACFJkiSpMwMISZIkSZ0ZQEiSJEnqzABCkiRJUmcGEJIkSZI6M4CQJEmS1JkBhCRJkqTODCAkSZIkdWYAIUmSJKkzAwhJkiRJnRlASJIkSerMAEKSJElSZwYQkiRJkjozgJAkSZLU2YwBRJKHJVm/vd8jyf5J7jb6okmSxpn1gyRNpi4tEB8CrknyAODVwPnAJ0daKknSYmD9IEkTqEsAcUMppQC7AQeUUg4AbjvaYkmSFgHrB0maQGt1yHNlktcCewA7JFkTWHu0xZIkLQLWD5I0gbq0QPwLcB3w3FLKRcBmwHtGWipJ0mJg/SBJE2jGFohWKezfN/1b7OMqSRPP+kGSJtOUAUSSK4Ey1fxSyu1GUiJJ0lizfpCkyTZlAFFKuS1Akv2Ai4BPAQGeiTfJSdLEsn6QpMnW5R6Ix5ZSPlhKubKU8udSyoeAp466YJKksWf9IEkTqEsAcWOSZyZZM8kaSZ4J3DjqgkmSxp71gyRNoC4BxL8C/wxc3F5Pb2mSpMlm/SBJE2jaUZjamN5PLqXsNk/lkSQtAtYPkjS5pm2BKKXcSH3CqCRJN7N+kKTJ1eVJ1D9M8gHg88DVvcRSyikjK5UkaTGwfpCkCdQlgPiH9ne/vrQCPHLuiyNJWkSsHyRpAnV5EvVO81EQSdLiYv0gSZNpxlGYkmyQZP8kJ7XXe5NsMB+FkySNL+sHSZpMXYZxPQi4kjpU3z8DfwY+McpCSZIWBesHSZpAXe6B2KqU0v9k0TcnOXVUBZIkLRrWD5I0gbq0QPwlycN7E0keBvxldEWSJC0S1g+SNIG6tED8G3BIX7/WPwJ7jaxEkqTFwvpBkiZQl1GYTgUekOR2bfrPIy+VJGnsWT9I0mTqMgrT25PcvpTy51LKn5NsmOSt81E4SdL4sn6QpMnU5R6Ix5VS/tSbKKX8Edh1dEWSJC0S1g+SNIG6BBBrJlm3N5FkPWDdafJLkiaD9YMkTaAuN1F/GjgmySeAAjwHOGSkpZIkLQbWD5I0gbrcRP3uJKcBjwYCvKWUctTISyZJGmvWD5I0mbq0QAD8ErihlPLtJLdOcttSypWjLJgkaVGwfpCkCdNlFKbnA4cCH2lJmwGHjbJQkqTxZ/0gSZOpy03ULwEeBvwZoJRyNrDxKAslSVoUrB8kaQJ1CSCuK6Vc35tIshb1ZjlJ0mSzfpCkCdQlgDguyeuA9ZI8Bvgi8LXRFkuStAhYP0jSBOoSQOwNXAqcDrwQOBJ4wygLJUlaFKwfJGkCdRnG9Sbgf9sLgCQPA344wnJJksac9YMkTaYpA4gkawL/TB1V45ullDOSPAF4HbAe8KD5KaIkaZxYP0jSZJuuBeLjwBbACcCBSc4HHgrsXUpxmD5JmlzWD5I0waYLILYF7l9KuSnJrYA/AH9TSrlofoomSRpT1g+SNMGmu4n6+ta/lVLKtcBZVg6SJKwfJGmiTdcCce8kp7X3AbZq0wFKKeX+Iy+dJGkcWT9I0gSbLoC4z7yVQpK0mFg/SNIEmzKAKKWcP58FkSQtDtYPkjTZujxITpIkSZIAAwhJkiRJszBlAJHkmPb3XaNaeZKDklyS5Iy+tDskOTrJ2e3vhi09SQ5Mck6S05Js3feZZS3/2UmWjaq8kqTR1w/WDZI03qZrgdg0ySOAJyV5UJKt+19ztP6DgV0G0vYGjiml3BM4pk0DPA64Z3u9APgQ1EoF2Ad4CLAdsE+vYpEkjcSo64eDsW6QpLE13ShMb6KeoDcH9h+YV4BHru7KSynfS7LlQPJuwI7t/SHAscBrWvonSykFOD7J7ZNs2vIeXUq5HCDJ0dSK57OrWz5J0lAjrR+sGyRpvE03CtOhwKFJ3lhKecs8lmmTUsqFrQwXJtm4pW8G/K4v3/KWNlW6JGkEFqh+sG6QpDExXQsEAKWUtyR5ErBDSzq2lHLEaIs1VIaklWnSb7mA5AXUJm7uete7zl3JJGkCjUn9YN0gSfNsxlGYkrwDeBnwi/Z6WUsblYtb8zPt7yUtfTmwRV++zYELpkm/hVLKR0sp25ZStt1oo43mvOCSNEnmuX6wbpCkMdFlGNfHA48ppRxUSjmI2of08SMs0+FAb7SMZcBX+9L3bCNubA9c0ZqzjwJ2TrJhu0Fu55YmSRqt+awfrBskaUzM2IWpuT1weXu/wVytPMlnqTe63SnJcuqIGe8EvpDkucBvgae37EcCuwLnANcAzwYopVye5C3AiS3ffr2b5iRJIzfn9YN1gySNty4BxDuAnyb5LrVP6Q7Aa+di5aWUZ0wx61FD8hbgJVMs5yDgoLkokySps5HUD9YNkjTeutxE/dkkxwIPplYQrymlXDTqgkmSxpv1gyRNpk5dmFp/0sNHXBZJ0iJj/SBJk6fLTdSSJEmSBBhASJIkSZqFaQOIJGskOWO+CiNJWhysHyRpck0bQJRSbgJ+lsRHc0qSbmb9IEmTq8tN1JsCP09yAnB1L7GU8qSRlUqStBhYP0jSBOoSQLx55KWQJC1G1g+SNIG6PAfiuCR3A+5ZSvl2klsDa46+aJKkcWb9IEmTacZRmJI8HzgU+EhL2gw4bJSFkiSNP+sHSZpMXYZxfQnwMODPAKWUs4GNR1koSdKiYP0gSROoSwBxXSnl+t5EkrWAMroiSZIWCesHSZpAXQKI45K8DlgvyWOALwJfG22xJEmLgPWDJE2gLgHE3sClwOnAC4EjgTeMslCSpEXB+kGSJlCXUZhuSnII8BNq0/SZpRSbqCVpwlk/SNJkmjGASPJ44MPAr4EAd0/ywlLKN0ZdOEnS+LJ+kKTJ1OVBcu8FdiqlnAOQZCvg64AVhCRNNusHSZpAXe6BuKRXOTS/AS4ZUXkkSYuH9YMkTaApWyCSPKW9/XmSI4EvUPu4Ph04cR7KJkkaQ9YPkjTZpuvC9MS+9xcDj2jvLwU2HFmJJEnjzvpBkibYlAFEKeXZ81kQSdLiYP0gSZOtyyhMdwf+HdiyP38p5UmjK5YkadxZP0jSZOoyCtNhwMepTxe9abTFkSQtItYPkjSBugQQ15ZSDhx5SSRJi431gyRNoC4BxAFJ9gG+BVzXSyylnDKyUkmSFgPrB0maQF0CiL8HngU8khVN1KVNS5Iml/WDJE2gLgHEk4F7lFKuH3VhJEmLivWDJE2gLk+i/hlw+1EXRJK06Fg/SNIE6tICsQnwqyQnsnIfV4fpk6TJZv0gSROoSwCxz8hLIUlajKwfJGkCzRhAlFKOm4+CSJIWF+sHSZpMXZ5EfSV1VA2AdYC1gatLKbcbZcEkSePN+kGSJlOXFojb9k8n+Sdgu5GVSJK0KFg/SNJk6jIK00pKKYfhGN+SpAHWD5I0Gbp0YXpK3+QawLasaLKWJE0o6wdJmkxdRmF6Yt/7G4DzgN1GUhpJ0mJi/SBJE6jLPRDPno+CSJIWF+sHSZpMUwYQSd40zedKKeUtIyiPJGnMWT9I0mSbrgXi6iFp6wPPBe4IWEFI0mSyfpCkCTZlAFFKeW/vfZLbAi8Dng18DnjvVJ+TJC1t1g+SNNmmvQciyR2AVwDPBA4Bti6l/HE+CiZJGl/WD5I0uaa7B+I9wFOAjwJ/X0q5at5KJUkaW9YPkjTZpmuBeCVwHfAG4PVJeumh3iR3uxGXTZI0nqwfNBFyyCGd85Zly0ZYEmm8THcPxKyfUi1JWvqsHyRpslkJSJIkSerMAEKSJElSZwYQkiRJkjqbdhhXjbfZ3NwF3uAlSZKk1WcLhCRJkqTODCAkSZIkdWYAIUmSJKkzAwhJkiRJnRlASJIkSerMAEKSJElSZwYQkiRJkjozgJAkSZLUmQGEJEmSpM4MICRJkiR1ZgAhSZIkqTMDCEmSJEmdGUBIkiRJ6swAQpIkSVJnBhCSJEmSOjOAkCRJktTZ2AYQSc5LcnqSU5Oc1NLukOToJGe3vxu29CQ5MMk5SU5LsvXCll6SNArWDZK08MY2gGh2KqU8sJSybZveGzimlHJP4Jg2DfA44J7t9QLgQ/NeUknSfLFukKQFNO4BxKDdgEPa+0OAf+pL/2Spjgdun2TThSigJGneWTdI0jwa5wCiAN9KcnKSF7S0TUopFwK0vxu39M2A3/V9dnlLW0mSFyQ5KclJl1566QiLLkkaEesGSVpgay10AabxsFLKBUk2Bo5O8qtp8mZIWrlFQikfBT4KsO22295iviRp7Fk3SNICG9sWiFLKBe3vJcBXgO2Ai3vNz+3vJS37cmCLvo9vDlwwf6WVJM0H6wZJWnhjGUAkWT/JbXvvgZ2BM4DDgWUt2zLgq+394cCebcSN7YEres3ZkqSlwbpBksbDuHZh2gT4ShKoZfy/Uso3k5wIfCHJc4HfAk9v+Y8EdgXOAa4Bnj3/RZYkjZh1gySNgbEMIEopvwEeMCT9MuBRQ9IL8JJ5KJokaYFYN0jSeBjLLkySJEmSxpMBhCRJkqTOxrILkyRJ0lzLIYfMnEnSjGyBkCRJktSZLRCSJEmrabatG2XZspkzSWPKFghJkiRJnRlASJIkSerMAEKSJElSZwYQkiRJkjozgJAkSZLUmQGEJEmSpM4MICRJkiR1ZgAhSZIkqTMDCEmSJEmdGUBIkiRJ6swAQpIkSVJnBhCSJEmSOjOAkCRJktSZAYQkSZKkzgwgJEmSJHVmACFJkiSpMwMISZIkSZ0ZQEiSJEnqzABCkiRJUmcGEJIkSZI6M4CQJEmS1JkBhCRJkqTODCAkSZIkdWYAIUmSJKkzAwhJkiRJnRlASJIkSerMAEKSJElSZwYQkiRJkjozgJAkSZLU2VoLXQBJUpVDDplV/rJs2YhKIknS1GyBkCRJktSZAYQkSZKkzgwgJEmSJHXmPRBjZLb9nyVJkqT5ZguEJEmSpM4MICRJkiR1ZgAhSZIkqTPvgZAkSYuS9w5KC8MWCEmSJEmdGUBIkiRJ6swAQpIkSVJnBhCSJEmSOjOAkCRJktSZozBJkiSNudmMOFWWLRthSSRbICRJkiTNgi0QkiRJ88xnWGgxswVCkiRJUmcGEJIkSZI6M4CQJEmS1JkBhCRJkqTODCAkSZIkdeYoTJoTsx1NwjGqJUmSFidbICRJkiR1ZgAhSZIkqTO7MEmSJC0hdivWqBlAaCifkClJkqRh7MIkSZIkqTMDCEmSJEmdLZkuTEl2AQ4A1gQ+Vkp55wIXSZI0BqwfFhe70Erjb0kEEEnWBP4HeAywHDgxyeGllF8sbMkkSQtpUusHb6KVNEpLIoAAtgPOKaX8BiDJ54DdgCVdQUiSZjS29cNsfuQv5h/4tigsPZPy3dXUlkoAsRnwu77p5cBDFqgsmmOjvpLmiVBa0qwf5pgBgWZjMbeGLeayj1pKKQtdhtWW5OnAY0spz2vTzwK2K6X8+0C+FwAvaJP3As5chdXdCfjDahR3sZiU7YTJ2Va3c+lZ1W29Wyllo7kuzDjqUj/MUd0Ak/Xdm4n7YgX3xQruixXGdV90qh+WSgvEcmCLvunNgQsGM5VSPgp8dHVWlOSkUsq2q7OMxWBSthMmZ1vdzqVnkrZ1NcxYP8xF3QAej37uixXcFyu4L1ZY7PtiqQzjeiJwzyR3T7IOsDtw+AKXSZK08KwfJGmOLYkWiFLKDUleChxFHabvoFLKzxe4WJKkBWb9IElzb0kEEACllCOBI+dhVavdzL1ITMp2wuRsq9u59EzStq4y64cF4b5YwX2xgvtihUW9L5bETdSSJEmS5sdSuQdCkiRJ0jwwgJiFJLskOTPJOUn2XujydJFkiyTfTfLLJD9P8rKWfockRyc5u/3dsKUnyYFtG09LsnXfspa1/GcnWdaXvk2S09tnDkyS+d/Sm8uyZpKfJjmiTd89yU9amT/fbqIkybpt+pw2f8u+Zby2pZ+Z5LF96WNx/JPcPsmhSX7VjutDl+LxTPKf7Tt7RpLPJrnVUjmeSQ5KckmSM/rSRn4Mp1qHVt+4nB9GadTf28Ui81CvLhbtvHxCkp+1ffHmlj5n5+rFJiP8HTJWSim+OryoN9/9GrgHsA7wM+C+C12uDuXeFNi6vb8tcBZwX+DdwN4tfW/gXe39rsA3gADbAz9p6XcAftP+btjeb9jmnQA8tH3mG8DjFnB7XwH8H3BEm/4CsHt7/2Hg39r7FwMfbu93Bz7f3t+3Hdt1gbu3Y77mOB1/4BDgee39OsDtl9rxpD7861xgvb7juNdSOZ7ADsDWwBl9aSM/hlOtw9dqH8+xOT+MeDtH+r1dLC/moV5dLK+2Tbdp79cGftK2cU7O1Qu9fau4T0byO2Sht+sW27nQBVgsr1YZH9U3/VrgtQtdrlXYjq8Cj6E+KGnTlrYpcGZ7/xHgGX35z2zznwF8pC/9Iy1tU+BXfekr5ZvnbdscOAZ4JHBEO7H9AVhr8BhSR2R5aHu/VsuXwePayzcuxx+4HfWHdQbSl9TxZMXTg+/Qjs8RwGOX0vEEtmTlH2IjP4ZTrcPXah/LBf8+zeO2juR7u9DbtZr7ZE7r1YXentXYD7cGTqE+6X1OztULvU2rsA9G9jtkobdt8GUXpu56P2h6lre0RaM1jz2IeoVgk1LKhQDt78Yt21TbOV368iHpC+H9wKuBm9r0HYE/lVJuaNP9Zbt5e9r8K1r+2W7/fLsHcCnwidZE+rEk67PEjmcp5ffAfwG/BS6kHp+TWXrHs998HMOp1qHVM47fp/kyV9/bRWlE9eqi0rrsnApcAhxNvWI+V+fqxWaUv0PGigFEd8P6gS+aIayS3Ab4EvDyUsqfp8s6JK2sQvq8SvIE4JJSysn9yUOylhnmjfV2Uq9SbA18qJTyIOBqalP5VBbldra+w7tRm2/vAqwPPG5I1sV+PLtYytu2VLjPb2nJfz9HWK8uKqWUG0spD6Refd8OuM+wbO3vkt0X8/A7ZKwYQHS3HNiib3pz4IIFKsusJFmbepL7TCnlyy354iSbtvmbUq8cwNTbOV365kPS59vDgCclOQ/4HLX58P3A7ZP0nnfSX7abt6fN3wC4nNlv/3xbDiwvpfykTR9KDSiW2vF8NHBuKeXSUspfgS8D/8DSO5795uMYTrUOrZ5x/D7Nl7n63i4qI65XF6VSyp+AY6n3QMzVuXoxGfXvkLFiANHdicA9293061BveDl8gcs0oyQBPg78spSyf9+sw4Fl7f0yah/OXvqebdSI7YErWlPsUcDOSTZsV4d3pvbjuxC4Msn2bV179i1r3pRSXltK2byUsiX12HynlPJM4LvA01q2we3sbf/TWv7S0ndvoyPcHbgn9YbUsTj+pZSLgN8luVdLehTwC5bY8aR2Xdo+ya1bOXrbuaSO54D5OIZTrUOrZxy/T/NlTr63813o1THqenVeNmKOJNkoye3b+/WoF39+ydydqxeNefgdMl4W+iaMxfSijqRwFrV/3+sXujwdy/xwatPXacCp7bUrtZ/dMcDZ7e8dWv4A/9O28XRg275lPQc4p72e3Ze+LXBG+8wHGLjBdwG2eUdWjH5wD+o/3jnAF4F1W/qt2vQ5bf49+j7/+rYtZ9I3AtG4HH/ggcBJ7ZgeRh29Y8kdT+DNwK9aWT5FHZFiSRxP4LPUezv+Sr3a9Nz5OIZTrcPXnBzTsTg/jHgbR/q9XSwv5qFeXSwv4P7AT9u+OAN4U0ufs3P1Ynwxot8h4/TySdSSJEmSOrMLkyRJkqTODCAkSZIkdWYAIUmSJKkzAwhJkiRJnRlASJIkSerMAEJaDUmOTfLYgbSXJ/ngNJ+5avQlkyQtJOsHLWUGENLq+Sz1gTH9dm/pkqTJZf2gJcsAQlo9hwJPSLIuQJItgbsApyY5JskpSU5PstvgB5PsmOSIvukPJNmrvd8myXFJTk5yVJJN52NjJElzxvpBS5YBhLQaSimXUZ8guUtL2h34PPAX4MmllK2BnYD3JkmXZSZZG/hv4GmllG2Ag4C3zXXZJUmjY/2gpWythS6AtAT0mqm/2v4+Bwjw9iQ7ADcBmwGbABd1WN69gPsBR7c6ZU3gwrkvtiRpxKwftCQZQEir7zBg/yRbA+uVUk5pTc0bAduUUv6a5DzgVgOfu4GVWwF78wP8vJTy0NEWW5I0YtYPWpLswiStplLKVcCx1Kbk3s1xGwCXtMphJ+BuQz56PnDfJOsm2QB4VEs/E9goyUOhNlkn+btRboMk6f+3c8coCMRAGEb/AY/owcQ7iGBh4zUERRAES29hExtBsJpiRZT3ykBgtxo+EjI984F/5QQCprFOss3rxY1Vkl1V7SUm4XQAAABkSURBVJMck1zeN4wxblW1SXJKck1yeK7fq2qeZPkcHLMkiyTnj/8FAFMzH/g7Ncb49jcAAAA/whUmAACgTUAAAABtAgIAAGgTEAAAQJuAAAAA2gQEAADQJiAAAIA2AQEAALQ9AGaz6XodUMKrAAAAAElFTkSuQmCC\n",
      "text/plain": [
       "<matplotlib.figure.Figure at 0x7f6d0a04c668>"
      ]
     },
     "metadata": {
      "needs_background": "light"
     },
     "output_type": "display_data"
    }
   ],
   "source": [
    "# Split the data into features and target label\n",
    "income_raw = data['income']\n",
    "features_raw = data.drop('income', axis = 1)\n",
    "\n",
    "# Visualize skewed continuous features of original data\n",
    "vs.distribution(data)"
   ]
  },
  {
   "cell_type": "markdown",
   "metadata": {},
   "source": [
   "\n",
   "Perform a transformation on the data and visualize the results."
   ]
  },
  {
   "cell_type": "code",
   "execution_count": 4,
   "metadata": {},
   "outputs": [
    {
     "data": {
      "image/png": "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\n",
      "text/plain": [
       "<matplotlib.figure.Figure at 0x7f6d079eb940>"
      ]
     },
     "metadata": {
      "needs_background": "light"
     },
     "output_type": "display_data"
    }
   ],
   "source": [
    "# Log-transform the skewed features\n",
    "skewed = ['capital-gain', 'capital-loss']\n",
    "features_log_transformed = pd.DataFrame(data = features_raw)\n",
    "features_log_transformed[skewed] = features_raw[skewed].apply(lambda x: np.log(x + 1))\n",
    "\n",
    "# Visualize the new log distributions\n",
    "vs.distribution(features_log_transformed, transformed = True)"
   ]
  },
  {
   "cell_type": "markdown",
   "metadata": {},
   "source": [
    "### Normalizing Numerical Features\n",
    "Normalization ensures that each feature is treated equally when applying supervised learners.\n",
   ]
  },
  {
   "cell_type": "code",
   "execution_count": 5,
   "metadata": {},
   "outputs": [
    {
     "data": {
      "text/html": [
       "<div>\n",
       "<style scoped>\n",
       "    .dataframe tbody tr th:only-of-type {\n",
       "        vertical-align: middle;\n",
       "    }\n",
       "\n",
       "    .dataframe tbody tr th {\n",
       "        vertical-align: top;\n",
       "    }\n",
       "\n",
       "    .dataframe thead th {\n",
       "        text-align: right;\n",
       "    }\n",
       "</style>\n",
       "<table border=\"1\" class=\"dataframe\">\n",
       "  <thead>\n",
       "    <tr style=\"text-align: right;\">\n",
       "      <th></th>\n",
       "      <th>age</th>\n",
       "      <th>workclass</th>\n",
       "      <th>education_level</th>\n",
       "      <th>education-num</th>\n",
       "      <th>marital-status</th>\n",
       "      <th>occupation</th>\n",
       "      <th>relationship</th>\n",
       "      <th>race</th>\n",
       "      <th>sex</th>\n",
       "      <th>capital-gain</th>\n",
       "      <th>capital-loss</th>\n",
       "      <th>hours-per-week</th>\n",
       "      <th>native-country</th>\n",
       "    </tr>\n",
       "  </thead>\n",
       "  <tbody>\n",
       "    <tr>\n",
       "      <th>0</th>\n",
       "      <td>0.301370</td>\n",
       "      <td>State-gov</td>\n",
       "      <td>Bachelors</td>\n",
       "      <td>0.800000</td>\n",
       "      <td>Never-married</td>\n",
       "      <td>Adm-clerical</td>\n",
       "      <td>Not-in-family</td>\n",
       "      <td>White</td>\n",
       "      <td>Male</td>\n",
       "      <td>0.667492</td>\n",
       "      <td>0.0</td>\n",
       "      <td>0.397959</td>\n",
       "      <td>United-States</td>\n",
       "    </tr>\n",
       "    <tr>\n",
       "      <th>1</th>\n",
       "      <td>0.452055</td>\n",
       "      <td>Self-emp-not-inc</td>\n",
       "      <td>Bachelors</td>\n",
       "      <td>0.800000</td>\n",
       "      <td>Married-civ-spouse</td>\n",
       "      <td>Exec-managerial</td>\n",
       "      <td>Husband</td>\n",
       "      <td>White</td>\n",
       "      <td>Male</td>\n",
       "      <td>0.000000</td>\n",
       "      <td>0.0</td>\n",
       "      <td>0.122449</td>\n",
       "      <td>United-States</td>\n",
       "    </tr>\n",
       "    <tr>\n",
       "      <th>2</th>\n",
       "      <td>0.287671</td>\n",
       "      <td>Private</td>\n",
       "      <td>HS-grad</td>\n",
       "      <td>0.533333</td>\n",
       "      <td>Divorced</td>\n",
       "      <td>Handlers-cleaners</td>\n",
       "      <td>Not-in-family</td>\n",
       "      <td>White</td>\n",
       "      <td>Male</td>\n",
       "      <td>0.000000</td>\n",
       "      <td>0.0</td>\n",
       "      <td>0.397959</td>\n",
       "      <td>United-States</td>\n",
       "    </tr>\n",
       "    <tr>\n",
       "      <th>3</th>\n",
       "      <td>0.493151</td>\n",
       "      <td>Private</td>\n",
       "      <td>11th</td>\n",
       "      <td>0.400000</td>\n",
       "      <td>Married-civ-spouse</td>\n",
       "      <td>Handlers-cleaners</td>\n",
       "      <td>Husband</td>\n",
       "      <td>Black</td>\n",
       "      <td>Male</td>\n",
       "      <td>0.000000</td>\n",
       "      <td>0.0</td>\n",
       "      <td>0.397959</td>\n",
       "      <td>United-States</td>\n",
       "    </tr>\n",
       "    <tr>\n",
       "      <th>4</th>\n",
       "      <td>0.150685</td>\n",
       "      <td>Private</td>\n",
       "      <td>Bachelors</td>\n",
       "      <td>0.800000</td>\n",
       "      <td>Married-civ-spouse</td>\n",
       "      <td>Prof-specialty</td>\n",
       "      <td>Wife</td>\n",
       "      <td>Black</td>\n",
       "      <td>Female</td>\n",
       "      <td>0.000000</td>\n",
       "      <td>0.0</td>\n",
       "      <td>0.397959</td>\n",
       "      <td>Cuba</td>\n",
       "    </tr>\n",
       "  </tbody>\n",
       "</table>\n",
       "</div>"
      ],
      "text/plain": [
       "        age          workclass education_level  education-num  \\\n",
       "0  0.301370          State-gov       Bachelors       0.800000   \n",
       "1  0.452055   Self-emp-not-inc       Bachelors       0.800000   \n",
       "2  0.287671            Private         HS-grad       0.533333   \n",
       "3  0.493151            Private            11th       0.400000   \n",
       "4  0.150685            Private       Bachelors       0.800000   \n",
       "\n",
       "        marital-status          occupation    relationship    race      sex  \\\n",
       "0        Never-married        Adm-clerical   Not-in-family   White     Male   \n",
       "1   Married-civ-spouse     Exec-managerial         Husband   White     Male   \n",
       "2             Divorced   Handlers-cleaners   Not-in-family   White     Male   \n",
       "3   Married-civ-spouse   Handlers-cleaners         Husband   Black     Male   \n",
       "4   Married-civ-spouse      Prof-specialty            Wife   Black   Female   \n",
       "\n",
       "   capital-gain  capital-loss  hours-per-week  native-country  \n",
       "0      0.667492           0.0        0.397959   United-States  \n",
       "1      0.000000           0.0        0.122449   United-States  \n",
       "2      0.000000           0.0        0.397959   United-States  \n",
       "3      0.000000           0.0        0.397959   United-States  \n",
       "4      0.000000           0.0        0.397959            Cuba  "
      ]
     },
     "metadata": {},
     "output_type": "display_data"
    }
   ],
   "source": [
    "# Import sklearn.preprocessing.StandardScaler\n",
    "from sklearn.preprocessing import MinMaxScaler\n",
    "\n",
    "# Initialize a scaler, then apply it to the features\n",
    "scaler = MinMaxScaler() # default=(0, 1)\n",
    "numerical = ['age', 'education-num', 'capital-gain', 'capital-loss', 'hours-per-week']\n",
    "\n",
    "features_log_minmax_transform = pd.DataFrame(data = features_log_transformed)\n",
    "features_log_minmax_transform[numerical] = scaler.fit_transform(features_log_transformed[numerical])\n",
    "\n",
    "# Show an example of a record with scaling applied\n",
    "display(features_log_minmax_transform.head(n = 5))"
   ]
  },
  {
   "cell_type": "markdown",
   "metadata": {},
   "source": [
    "### Implementation: Data Preprocessing\n",
    "\n",
    "Learning algorithms expect input to be numeric, which requires that non-numeric features be converted using the **one-hot encoding** scheme.\n",
   ]
  },
  {
   "cell_type": "code",
   "execution_count": 6,
   "metadata": {
    "scrolled": true
   },
   "outputs": [
    {
     "name": "stdout",
     "output_type": "stream",
     "text": [
      "103 total features after one-hot encoding.\n"
     ]
    },
    {
     "data": {
      "text/plain": [
       "['age',\n",
       " 'education-num',\n",
       " 'capital-gain',\n",
       " 'capital-loss',\n",
       " 'hours-per-week',\n",
       " 'workclass_ Federal-gov',\n",
       " 'workclass_ Local-gov',\n",
       " 'workclass_ Private',\n",
       " 'workclass_ Self-emp-inc',\n",
       " 'workclass_ Self-emp-not-inc',\n",
       " 'workclass_ State-gov',\n",
       " 'workclass_ Without-pay',\n",
       " 'education_level_ 10th',\n",
       " 'education_level_ 11th',\n",
       " 'education_level_ 12th',\n",
       " 'education_level_ 1st-4th',\n",
       " 'education_level_ 5th-6th',\n",
       " 'education_level_ 7th-8th',\n",
       " 'education_level_ 9th',\n",
       " 'education_level_ Assoc-acdm',\n",
       " 'education_level_ Assoc-voc',\n",
       " 'education_level_ Bachelors',\n",
       " 'education_level_ Doctorate',\n",
       " 'education_level_ HS-grad',\n",
       " 'education_level_ Masters',\n",
       " 'education_level_ Preschool',\n",
       " 'education_level_ Prof-school',\n",
       " 'education_level_ Some-college',\n",
       " 'marital-status_ Divorced',\n",
       " 'marital-status_ Married-AF-spouse',\n",
       " 'marital-status_ Married-civ-spouse',\n",
       " 'marital-status_ Married-spouse-absent',\n",
       " 'marital-status_ Never-married',\n",
       " 'marital-status_ Separated',\n",
       " 'marital-status_ Widowed',\n",
       " 'occupation_ Adm-clerical',\n",
       " 'occupation_ Armed-Forces',\n",
       " 'occupation_ Craft-repair',\n",
       " 'occupation_ Exec-managerial',\n",
       " 'occupation_ Farming-fishing',\n",
       " 'occupation_ Handlers-cleaners',\n",
       " 'occupation_ Machine-op-inspct',\n",
       " 'occupation_ Other-service',\n",
       " 'occupation_ Priv-house-serv',\n",
       " 'occupation_ Prof-specialty',\n",
       " 'occupation_ Protective-serv',\n",
       " 'occupation_ Sales',\n",
       " 'occupation_ Tech-support',\n",
       " 'occupation_ Transport-moving',\n",
       " 'relationship_ Husband',\n",
       " 'relationship_ Not-in-family',\n",
       " 'relationship_ Other-relative',\n",
       " 'relationship_ Own-child',\n",
       " 'relationship_ Unmarried',\n",
       " 'relationship_ Wife',\n",
       " 'race_ Amer-Indian-Eskimo',\n",
       " 'race_ Asian-Pac-Islander',\n",
       " 'race_ Black',\n",
       " 'race_ Other',\n",
       " 'race_ White',\n",
       " 'sex_ Female',\n",
       " 'sex_ Male',\n",
       " 'native-country_ Cambodia',\n",
       " 'native-country_ Canada',\n",
       " 'native-country_ China',\n",
       " 'native-country_ Columbia',\n",
       " 'native-country_ Cuba',\n",
       " 'native-country_ Dominican-Republic',\n",
       " 'native-country_ Ecuador',\n",
       " 'native-country_ El-Salvador',\n",
       " 'native-country_ England',\n",
       " 'native-country_ France',\n",
       " 'native-country_ Germany',\n",
       " 'native-country_ Greece',\n",
       " 'native-country_ Guatemala',\n",
       " 'native-country_ Haiti',\n",
       " 'native-country_ Holand-Netherlands',\n",
       " 'native-country_ Honduras',\n",
       " 'native-country_ Hong',\n",
       " 'native-country_ Hungary',\n",
       " 'native-country_ India',\n",
       " 'native-country_ Iran',\n",
       " 'native-country_ Ireland',\n",
       " 'native-country_ Italy',\n",
       " 'native-country_ Jamaica',\n",
       " 'native-country_ Japan',\n",
       " 'native-country_ Laos',\n",
       " 'native-country_ Mexico',\n",
       " 'native-country_ Nicaragua',\n",
       " 'native-country_ Outlying-US(Guam-USVI-etc)',\n",
       " 'native-country_ Peru',\n",
       " 'native-country_ Philippines',\n",
       " 'native-country_ Poland',\n",
       " 'native-country_ Portugal',\n",
       " 'native-country_ Puerto-Rico',\n",
       " 'native-country_ Scotland',\n",
       " 'native-country_ South',\n",
       " 'native-country_ Taiwan',\n",
       " 'native-country_ Thailand',\n",
       " 'native-country_ Trinadad&Tobago',\n",
       " 'native-country_ United-States',\n",
       " 'native-country_ Vietnam',\n",
       " 'native-country_ Yugoslavia']"
      ]
     },
     "execution_count": 6,
     "metadata": {},
     "output_type": "execute_result"
    }
   ],
   "source": [
    "# One-hot encode the 'features_log_minmax_transform' data using pandas.get_dummies()\n",
    "features_final = pd.get_dummies(data = features_log_minmax_transform)\n",
    "\n",
    "# Encode the 'income_raw' data to numerical values\n",
    "income = income_raw.map({'<=50K':0, '>50K':1})\n",
    "\n",
    "# Print the number of features after one-hot encoding\n",
    "encoded = list(features_final.columns)\n",
    "print(\"{} total features after one-hot encoding.\".format(len(encoded)))\n",
    "\n",
    "# Uncomment the following line to see the encoded feature names\n",
    "encoded"
   ]
  },
  {
   "cell_type": "markdown",
   "metadata": {},
   "source": [
    "### Shuffle and Split Data\n",
    "I will now split the data (both features and their labels) into training and test sets. 80% of the data will be used for training and 20% for testing.\n",
    "\n",
   ]
  },
  {
   "cell_type": "code",
   "execution_count": 7,
   "metadata": {},
   "outputs": [
    {
     "name": "stdout",
     "output_type": "stream",
     "text": [
      "Training set has 36177 samples.\n",
      "Testing set has 9045 samples.\n"
     ]
    },
   ]
   "source": [
    "# Import train_test_split\n",
    "# Split the 'features' and 'income' data into training and testing sets\n",
    "X_train, X_test, y_train, y_test = train_test_split(features_final, \n",
    "                                                    income, \n",
    "                                                    test_size = 0.2, \n",
    "                                                    random_state = 0)\n",
    "\n",
    "# Show the results of the split\n",
    "print(\"Training set has {} samples.\".format(X_train.shape[0]))\n",
    "print(\"Testing set has {} samples.\".format(X_test.shape[0]))"
   ]
  },
  {
   "cell_type": "code",
   "execution_count": 8,
   "metadata": {},
   "outputs": [
    {
     "name": "stdout",
     "output_type": "stream",
     "text": [
      "Naive Predictor: [Accuracy score: 0.2478, F-score: 0.2917]\n"
     ]
    }
   ],
   "source": [
    "\n",
    "TP = np.sum(income) # Counting the ones as this is the naive case. Note that 'income' is the 'income_raw' data encoded to numerical values done in the data preprocessing step.\n",
    "FP = income.count() - TP # Specific to the naive case\n",
    "\n",
    "TN = 0 # No predicted negatives in the naive case\n",
    "FN = 0 # No predicted negatives in the naive case\n",
    "\n",
    "# TODO: Calculate accuracy, precision and recall\n",
    "accuracy = float(TP) / float(TP+FP)\n",
    "recall =  float(TP)/ float(TP+FN)\n",
    "precision = float(TP) / float(TP+FP)\n",
    "\n",
    "# TODO: Calculate F-score using the formula above for beta = 0.5 and correct values for precision and recall.\n",
    "beta = 0.5\n",
    "fscore = float((1 + beta**2) * (precision * recall)) / float(((beta**2 * precision) + recall))\n",
    "\n",
    "# Print the results \n",
    "print(\"Naive Predictor: [Accuracy score: {:.4f}, F-score: {:.4f}]\".format(accuracy, fscore))"
   ]
  },
  {
   "cell_type": "markdown",
   "metadata": {},
   "source": [
    "### Implementation - Creating a Training and Predicting Pipeline\n",
    "In the code block below, I will need to implement the following:\n",
    " - Import `fbeta_score` and `accuracy_score` from [`sklearn.metrics`](http://scikit-learn.org/stable/modules/classes.html#sklearn-metrics-metrics).\n",
    " - Fit the learner to the sampled training data and record the training time.\n",
    " - Perform predictions on the test data `X_test`, and also on the first 300 training points `X_train[:300]`.\n",
    " - Record the total prediction time.\n",
    " - Calculate the accuracy score for both the training subset and testing set.\n",
    " - Calculate the F-score for both the training subset and testing set.\n",
    " - Make sure that you set the `beta` parameter!"
   ]
  },
  {
   "cell_type": "code",
   "execution_count": 9,
   "metadata": {},
   "outputs": [],
   "source": [
    "# Import two metrics from sklearn - fbeta_score and accuracy_score\n",
    "from sklearn.metrics import accuracy_score, fbeta_score\n",
    "def train_predict(learner, sample_size, X_train, y_train, X_test, y_test): \n",
    "    '''\n",
    "    inputs:\n",
    "       - learner: the learning algorithm to be trained and predicted on\n",
    "       - sample_size: the size of samples (number) to be drawn from training set\n",
    "       - X_train: features training set\n",
    "       - y_train: income training set\n",
    "       - X_test: features testing set\n",
    "       - y_test: income testing set\n",
    "    '''\n",
    "    \n",
    "    results = {}\n",
    "    \n",
    "    # Fit the learner to the training data using slicing with 'sample_size' using .fit(training_features[:], training_labels[:])\n",
    "    start = time() # Get start time\n",
    "    learner.fit(X_train[:sample_size],y_train[:sample_size])\n",
    "    end = time() # Get end time\n",
    "    \n",
    "  \n",
    "    # Calculate the training time\n",
    "    results['train_time'] = end - start\n",
    "        \n",
    "    # Get the predictions on the test set(X_test),\n",
    "    #       then get predictions on the first 300 training samples(X_train) using .predict()\n",
    "    start = time() # Get start time\n",
    "    predictions_test = learner.predict(X_test)\n",
    "    predictions_train = learner.predict(X_train[:300])\n",
    "    end = time() # Get end time\n",
    "    \n",
    "    # Calculate the total prediction time\n",
    "    results['pred_time'] = end - start\n",
    "            \n",
    "    # Compute accuracy on the first 300 training samples which is y_train[:300]\n",
    "    results['acc_train'] = accuracy_score(predictions_train,y_train[:300])\n",
    "        \n",
    "    # Compute accuracy on test set using accuracy_score()\n",
    "    results['acc_test'] = accuracy_score(predictions_test,y_test)\n",
    "    \n",
    "    # Compute F-score on the the first 300 training samples using fbeta_score()\n",
    "    results['f_train'] = fbeta_score(predictions_train,y_train[:300],beta=0.5)\n",
    "        \n",
    "    # Compute F-score on the test set which is y_test\n",
    "    results['f_test'] = fbeta_score(predictions_test,y_test, beta= 0.5)\n",
    "       \n",
    "    # Success\n",
    "    print(\"{} trained on {} samples.\".format(learner.__class__.__name__, sample_size))\n",
    "        \n",
    "    # Return the results\n",
    "    return results"
   ]
  },
  {
   "cell_type": "markdown",
   "metadata": {},
   "source": [
    "### Implementation: Initial Model Evaluation\n",
    "In the code cell, I will need to implement the following:\n",
    "- Import the three supervised learning models you've discussed in the previous section.\n",
    "- Initialize the three models and store them in `'clf_A'`, `'clf_B'`, and `'clf_C'`.\n",
    "  - Use a `'random_state'` for each model you use, if provided.\n",
    "- Calculate the number of records equal to 1%, 10%, and 100% of the training data.\n",
    "  - Store those values in `'samples_1'`, `'samples_10'`, and `'samples_100'` respectively.\n",
    "\n"
   ]
  },
  {
   "cell_type": "code",
   "execution_count": 10,
   "metadata": {},
   "outputs": [
    {
     "name": "stdout",
     "output_type": "stream",
     "text": [
      "BaggingClassifier trained on 361 samples.\n",
      "BaggingClassifier trained on 3617 samples.\n",
      "BaggingClassifier trained on 36177 samples.\n",
      "LogisticRegression trained on 361 samples.\n",
      "LogisticRegression trained on 3617 samples.\n",
      "LogisticRegression trained on 36177 samples.\n",
      "DecisionTreeClassifier trained on 361 samples.\n",
      "DecisionTreeClassifier trained on 3617 samples.\n",
      "DecisionTreeClassifier trained on 36177 samples.\n"
     ]
    },
    {
     "data": {
      "image/png": "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\n",
      "text/plain": [
       "<matplotlib.figure.Figure at 0x7f6d32a3e550>"
      ]
     },
     "metadata": {
      "needs_background": "light"
     },
     "output_type": "display_data"
    }
   ],
   "source": [
    "# Import the three supervised learning models from sklearn\n",
    "from sklearn.ensemble import BaggingClassifier, AdaBoostClassifier, RandomForestClassifier\n",
    "from sklearn.linear_model import LogisticRegression\n",
    "from sklearn.ensemble import GradientBoostingClassifier\n",
    "from sklearn.tree import DecisionTreeClassifier\n",
    "from sklearn.svm import SVC\n",
    "\n",
    "\n",
    "\n",
    "\n",
    "# Initialize the three models\n",
    "#Ensamble Bagging\n",
    "clf_A = BaggingClassifier(random_state = 0)\n",
    "\n",
    "#Decision Tree\n",
    "clf_B = LogisticRegression(random_state = 0)\n",
    "\n",
    "#Support Vector Machine\n",
    "clf_C = DecisionTreeClassifier(random_state = 0)\n",
    "\n",
    "# Calculate the number of samples for 1%, 10%, and 100% of the training data\n",
    "samples_100 = int(len(y_train))\n",
    "samples_10 = int(len(y_train) / 10)\n",
    "samples_1 = int(len(y_train) / 100)\n",
    "\n",
    "# Collect results on the learners\n",
    "results = {}\n",
    "for clf in [clf_A, clf_B, clf_C]:\n",
    "    clf_name = clf.__class__.__name__\n",
    "    results[clf_name] = {}\n",
    "    for i, samples in enumerate([samples_1, samples_10, samples_100]):\n",
    "        results[clf_name][i] = \\\n",
    "        train_predict(clf, samples, X_train, y_train, X_test, y_test)\n",
    "\n",
    "# Run metrics visualization for the three supervised learning models \n",
    "vs.evaluate(results, accuracy, fscore)"
   ]
  },
  {
   "cell_type": "markdown",
   "metadata": {},
   "source": [
    "----\n",
    "## Improving Results\n",
    "I will then perform a grid search optimization for the model over the entire training set (`X_train` and `y_train`) by tuning at least one parameter to improve upon the untuned model's F-score. "
   ]
  },
  {
   "cell_type": "markdown",
   "metadata": {},
   "source": [
    "* Based on the performance results, the Decision Tree Model is best equipped for determining which individuals make above \\$50,000 annual income. This decision took into consideration the time, accuracy, and score of each model tested. The F-Score of the deciscion tree model when 100\\% of the training data was used was the highest. The FScore is an overall measurement of the tests accuracy based recall and percision of the test. Identifying which individuals to focus donation requests to based on income."
   ]
  },
  {
   "cell_type": "code",
   "execution_count": 11,
   "metadata": {},
   "outputs": [
    {
     "name": "stderr",
     "output_type": "stream",
     "text": [
      "/opt/conda/lib/python3.6/site-packages/sklearn/grid_search.py:42: DeprecationWarning: This module was deprecated in version 0.18 in favor of the model_selection module into which all the refactored classes and functions are moved. This module will be removed in 0.20.\n",
      "  DeprecationWarning)\n"
     ]
    },
    {
     "name": "stdout",
     "output_type": "stream",
     "text": [
      "Unoptimized model\n",
      "------\n",
      "Accuracy score on testing data: 0.8186\n",
      "F-score on testing data: 0.6279\n",
      "\n",
      "Optimized Model\n",
      "------\n",
      "Final accuracy score on the testing data: 0.8523\n",
      "Final F-score on the testing data: 0.7224\n"
     ]
    }
   ],
   "source": [
    "# Import 'GridSearchCV', 'make_scorer', and any other necessary libraries\n",
    "from sklearn.grid_search import GridSearchCV\n",
    "from sklearn.metrics import make_scorer\n",
    "# Initialize the classifier\n",
    "clf = DecisionTreeClassifier(random_state = 0)\n",
    "\n",
    "# Create the parameters list you wish to tune, using a dictionary if needed.\n",
    "parameters = {'max_depth' :[2, 6, 10]}\n",
    "\n",
    "# Make an fbeta_score scoring object using make_scorer()\n",
    "scorer = make_scorer(fbeta_score, beta = 0.5)\n",
    "\n",
    "# Perform grid search on the classifier using 'scorer' as the scoring method using GridSearchCV()\n",
    "grid_obj = GridSearchCV(clf, parameters, scoring=scorer)\n",
    "\n",
    "# Fit the grid search object to the training data and find the optimal parameters using fit()\n",
    "grid_fit = grid_obj.fit(X_train,y_train)\n",
    "\n",
    "# Get the estimator\n",
    "best_clf = grid_fit.best_estimator_\n",
    "\n",
    "# Make predictions using the unoptimized and model\n",
    "predictions = (clf.fit(X_train, y_train)).predict(X_test)\n",
    "best_predictions = best_clf.predict(X_test)\n",
    "\n",
    "# Report the before-and-afterscores\n",
    "print(\"Unoptimized model\\n------\")\n",
    "print(\"Accuracy score on testing data: {:.4f}\".format(accuracy_score(y_test, predictions)))\n",
    "print(\"F-score on testing data: {:.4f}\".format(fbeta_score(y_test, predictions, beta = 0.5)))\n",
    "print(\"\\nOptimized Model\\n------\")\n",
    "print(\"Final accuracy score on the testing data: {:.4f}\".format(accuracy_score(y_test, best_predictions)))\n",
    "print(\"Final F-score on the testing data: {:.4f}\".format(fbeta_score(y_test, best_predictions, beta = 0.5)))"
   ]
  },
  {
   "cell_type": "markdown",
   "metadata": {},
   "source": [
    "#### Results:\n",
    "\n",
    "|     Metric     | Unoptimized Model | Optimized Model |\n",
    "| :------------: | :---------------: | :-------------: | \n",
    "| Accuracy Score |       0.8186      |     0.8523      |\n",
    "| F-score        |       0.6279      |     0.7724      |\n"
   ]
  },
  {
   "cell_type": "markdown",
   "metadata": {},
   "source": [
    "* The optimized model's accuracy score is 0.8523 and the f-score is 0.7724.\n",
    "* The optimized scores are better than the unoptimized scores of 0.8186 accuracy and 0.6279 f-score\n",
    "* The results from the optimized model are significantly higher than the benchmark set by the naive predictor scores of Accuracy score: 0.2478, F-score: 0.2917"
   ]
  },
  {
   "cell_type": "markdown",
   "metadata": {},
   "source": [
    "### Implementation - Extracting Feature Importance\n",
    "Choose a `scikit-learn` supervised learning algorithm that has a `feature_importance_` attribute availble for it. This attribute is a function that ranks the importance of each feature when making predictions based on the chosen algorithm.\n",
    "\n",
    "In the code cell below, I will need to implement the following:\n",
    " - Import a supervised learning model from sklearn if it is different from the three used earlier.\n",
    " - Train the supervised model on the entire training set.\n",
    " - Extract the feature importances using `'.feature_importances_'`."
   ]
  },
  {
   "cell_type": "code",
   "execution_count": 12,
   "metadata": {},
   "outputs": [
    {
     "data": {
      "image/png": "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\n",
      "text/plain": [
       "<matplotlib.figure.Figure at 0x7f6ce8144be0>"
      ]
     },
     "metadata": {
      "needs_background": "light"
     },
     "output_type": "display_data"
    }
   ],
   "source": [
    "# Import a supervised learning model that has 'feature_importances_'\n",
    "from sklearn.ensemble import AdaBoostClassifier\n",
    "clf = AdaBoostClassifier()\n",
    "\n",
    "# Train the supervised model on the training set using .fit(X_train, y_train)\n",
    "model = clf.fit(X_train, y_train)\n",
    "\n",
    "# Extract the feature importances using .feature_importances_ \n",
    "importances = model.feature_importances_\n",
    "\n",
    "# Plot\n",
    "vs.feature_plot(importances, X_train, y_train)"
   ]
  },
  {
   "cell_type": "markdown",
   "metadata": {},
   "source": [
    "### Feature Selection\n",
    "How does a model perform if we only use a subset of all the available features in the data? With less features required to train, the expectation is that training and prediction time is much lower — at the cost of performance metrics. From the visualization above, we see that the top five most important features contribute more than half of the importance of **all** features present in the data. This hints that we can attempt to *reduce the feature space* and simplify the information required for the model to learn. The code cell below will use the same optimized model you found earlier, and train it on the same training set *with only the top five important features*. "
   ]
  },
  {
   "cell_type": "code",
   "execution_count": 13,
   "metadata": {},
   "outputs": [
    {
     "name": "stdout",
     "output_type": "stream",
     "text": [
      "Final Model trained on full data\n",
      "------\n",
      "Accuracy on testing data: 0.8523\n",
      "F-score on testing data: 0.7224\n",
      "\n",
      "Final Model trained on reduced data\n",
      "------\n",
      "Accuracy on testing data: 0.8278\n",
      "F-score on testing data: 0.6587\n"
     ]
    }
   ],
   "source": [
    "# Import functionality for cloning a model\n",
    "from sklearn.base import clone\n",
    "\n",
    "# Reduce the feature space\n",
    "X_train_reduced = X_train[X_train.columns.values[(np.argsort(importances)[::-1])[:5]]]\n",
    "X_test_reduced = X_test[X_test.columns.values[(np.argsort(importances)[::-1])[:5]]]\n",
    "\n",
    "# Train on the \"best\" model found from grid search earlier\n",
    "clf = (clone(best_clf)).fit(X_train_reduced, y_train)\n",
    "\n",
    "# Make new predictions\n",
    "reduced_predictions = clf.predict(X_test_reduced)\n",
    "\n",
    "# Report scores from the final model using both versions of data\n",
    "print(\"Final Model trained on full data\\n------\")\n",
    "print(\"Accuracy on testing data: {:.4f}\".format(accuracy_score(y_test, best_predictions)))\n",
    "print(\"F-score on testing data: {:.4f}\".format(fbeta_score(y_test, best_predictions, beta = 0.5)))\n",
    "print(\"\\nFinal Model trained on reduced data\\n------\")\n",
    "print(\"Accuracy on testing data: {:.4f}\".format(accuracy_score(y_test, reduced_predictions)))\n",
    "print(\"F-score on testing data: {:.4f}\".format(fbeta_score(y_test, reduced_predictions, beta = 0.5)))"
   ]
  },
  {
   "cell_type": "markdown",
   "metadata": {},
   "source": [
    "* The accuracy and f-score results of the reduced data are slightly lower than the results computed from the full dataset. The accuracy score is reduced: 0.8278, full: 0.8523 and the f-scores reduced: 0.6587, full: 0.7224.\n",
    "* If timing where a factor I would have no problem using the reduced data because the difference between the two is small and the f-score remains above the 0.5 threshold desired."
   ]
  },
 ],
 "metadata": {
  "kernelspec": {
   "display_name": "Python 3",
   "language": "python",
   "name": "python3"
  },
  "language_info": {
   "codemirror_mode": {
    "name": "ipython",
    "version": 3
   },
   "file_extension": ".py",
   "mimetype": "text/x-python",
   "name": "python",
   "nbconvert_exporter": "python",
   "pygments_lexer": "ipython3",
   "version": "3.6.3"
  }
 },
 "nbformat": 4,
 "nbformat_minor": 1
}
